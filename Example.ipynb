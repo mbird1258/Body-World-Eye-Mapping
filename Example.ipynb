{
 "cells": [
  {
   "cell_type": "code",
   "execution_count": null,
   "metadata": {},
   "outputs": [],
   "source": [
    "import manager\n",
    "import numpy as np\n",
    "\n",
    "a = manager.BWEManager(CamOffset = [37.2, 12, 0], CamViewDepth = [1846.897, 1779.192])"
   ]
  },
  {
   "cell_type": "code",
   "execution_count": 5,
   "metadata": {},
   "outputs": [],
   "source": [
    "import importlib\n",
    "importlib.reload(manager)\n",
    "# importlib.reload(manager.utils)\n",
    "a = manager.BWEManager(CamOffset = [37.2, 12, 0], CamViewDepth = [1846.897, 1779.192])"
   ]
  },
  {
   "cell_type": "code",
   "execution_count": 2,
   "metadata": {},
   "outputs": [],
   "source": [
    "vid1 = \"In/iPad Vid 1.mov\"\n",
    "StartFrame1 = 128\n",
    "vid2 = \"In/iPhone Vid 1.mov\"\n",
    "StartFrame2 = 176"
   ]
  },
  {
   "cell_type": "code",
   "execution_count": null,
   "metadata": {},
   "outputs": [],
   "source": [
    "%matplotlib\n",
    "a.AssignCourtValues(vid1, StartFrame1, vid2, StartFrame2, \"CourtStorage.pkl\")"
   ]
  },
  {
   "cell_type": "code",
   "execution_count": 3,
   "metadata": {},
   "outputs": [],
   "source": [
    "# https://www.geogebra.org/3d/k7waft2t\n",
    "K = np.array((544.86, 113.07, 1361.98))\n",
    "L = np.array((64.61, 48.45, 1715.79))\n",
    "M = np.array((156.46, 216.78, 853.75))\n",
    "N = L+M-K"
   ]
  },
  {
   "cell_type": "code",
   "execution_count": null,
   "metadata": {},
   "outputs": [],
   "source": [
    "%matplotlib inline\n",
    "# a.ProcessVideo(vid1, StartFrame1, vid2, StartFrame2, \"storage.pkl\", length=60)\n",
    "a.ProcessVideo(vid1, StartFrame1, vid2, StartFrame2, (K, L, M, N), [1, 3], \"storage.pkl\", \"CourtStorage.pkl\", \n",
    "               GetBall=True, GetBodies=False, GetEyes=False, length=60)"
   ]
  },
  {
   "cell_type": "code",
   "execution_count": null,
   "metadata": {},
   "outputs": [],
   "source": [
    "%matplotlib\n",
    "a.PlayVideo(\"storage.pkl\")"
   ]
  }
 ],
 "metadata": {
  "kernelspec": {
   "display_name": "Python 3",
   "language": "python",
   "name": "python3"
  },
  "language_info": {
   "codemirror_mode": {
    "name": "ipython",
    "version": 3
   },
   "file_extension": ".py",
   "mimetype": "text/x-python",
   "name": "python",
   "nbconvert_exporter": "python",
   "pygments_lexer": "ipython3",
   "version": "3.11.1"
  }
 },
 "nbformat": 4,
 "nbformat_minor": 2
}
